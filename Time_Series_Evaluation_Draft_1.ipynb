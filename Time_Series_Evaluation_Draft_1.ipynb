{
  "nbformat": 4,
  "nbformat_minor": 0,
  "metadata": {
    "colab": {
      "name": "Time Series Evaluation Draft 1",
      "provenance": [],
      "include_colab_link": true
    },
    "kernelspec": {
      "name": "python3",
      "display_name": "Python 3"
    },
    "accelerator": "GPU"
  },
  "cells": [
    {
      "cell_type": "markdown",
      "metadata": {
        "id": "view-in-github",
        "colab_type": "text"
      },
      "source": [
        "<a href=\"https://colab.research.google.com/github/samkasse/CHM13/blob/master/Time_Series_Evaluation_Draft_1.ipynb\" target=\"_parent\"><img src=\"https://colab.research.google.com/assets/colab-badge.svg\" alt=\"Open In Colab\"/></a>"
      ]
    },
    {
      "cell_type": "markdown",
      "metadata": {
        "id": "nTm5f1KwWoOF"
      },
      "source": [
        "\n",
        "# Time Series:- \n",
        "\n",
        "An aproach to predict stock data.\n",
        "\n",
        "by: Atwine Mugume.\n",
        "\n",
        "### Things to learn:-\n",
        "\n",
        "- How to set up your own project.\n",
        "\n",
        "- Working with time based data.\n",
        "\n",
        "\n",
        "\n",
        "---\n",
        "\n",
        "\n",
        "\n",
        "1. [Article](https://medium.com/open-machine-learning-course/open-machine-learning-course-topic-9-time-series-analysis-in-python-a270cb05e0b3)\n",
        "\n",
        "\n",
        "2. [Article 2](https://medium.com/open-machine-learning-course/open-machine-learning-course-topic-9-part-3-predicting-the-future-with-facebook-prophet-3f3af145cdc)\n",
        "\n",
        "\n",
        "3. [Python Quants](https://gist.github.com/yhilpisch/dfd1e9c87864d5e3d6b54f1943a9c1ec)\n",
        "\n",
        "4. [You Tube Video Class](https://github.com/mGalarnyk/Python_Tutorials/tree/master/Time_Series)\n",
        "\n",
        "\n",
        "5. [You Tube](https://www.youtube.com/watch?v=x4nO5yoarM0)"
      ]
    },
    {
      "cell_type": "markdown",
      "metadata": {
        "id": "zPn7svaBMR07"
      },
      "source": [
        "# Some notes learnt:-\n",
        "\n",
        "1. There is a specifit method used to split time based data please use that when possible.\n",
        "\n",
        "2. Please chackout this video, its quite informative: [Time Series Video](https://www.youtube.com/watch?v=VYpAodcdFfA) :: what we want to look at is how to decompose the data so that we can reduce noise and make it easy for prediction.\n",
        "\n",
        "3. [Time Series Raj](https://www.youtube.com/watch?v=d4Sn6ny_5LI) :: this talks in brief about time series.\n",
        "\n",
        "4. [Notebook Raj](https://github.com/llSourcell/Time_Series_Prediction/blob/master/Time%20Series.ipynb) :: this is the notebook of the video above."
      ]
    },
    {
      "cell_type": "code",
      "metadata": {
        "id": "4jHvuND8RbUw"
      },
      "source": [
        ""
      ],
      "execution_count": null,
      "outputs": []
    },
    {
      "cell_type": "code",
      "metadata": {
        "id": "1yz8JxYfZSwk",
        "outputId": "a40192f4-fbc8-4c44-8017-e7a6da57721b",
        "colab": {
          "base_uri": "https://localhost:8080/",
          "height": 71
        }
      },
      "source": [
        "#import necessary libraries\n",
        "import pandas as pd\n",
        "import numpy as np \n",
        "import matplotlib.pyplot as plt\n",
        "import seaborn as sns\n",
        "\n",
        "#remove warnings\n",
        "import warnings\n",
        "warnings.filterwarnings(\"ignore\")"
      ],
      "execution_count": null,
      "outputs": [
        {
          "output_type": "stream",
          "text": [
            "/usr/local/lib/python3.6/dist-packages/statsmodels/tools/_testing.py:19: FutureWarning: pandas.util.testing is deprecated. Use the functions in the public API at pandas.testing instead.\n",
            "  import pandas.util.testing as tm\n"
          ],
          "name": "stderr"
        }
      ]
    },
    {
      "cell_type": "code",
      "metadata": {
        "id": "CD6645lPZve1"
      },
      "source": [
        "#read in the data downloaded\n",
        "#use the variable parse_dates to make the dates easy to work with in your data\n",
        "data = pd.read_csv('dt.csv', parse_dates=['Date'])"
      ],
      "execution_count": null,
      "outputs": []
    },
    {
      "cell_type": "code",
      "metadata": {
        "id": "odSf_RO9m9FT",
        "outputId": "cb6f8c96-8a80-46c6-c7c3-2cd1618e7e02",
        "colab": {
          "base_uri": "https://localhost:8080/",
          "height": 34
        }
      },
      "source": [
        "#how much data points do I have?\n",
        "data.shape"
      ],
      "execution_count": null,
      "outputs": [
        {
          "output_type": "execute_result",
          "data": {
            "text/plain": [
              "(12413, 7)"
            ]
          },
          "metadata": {
            "tags": []
          },
          "execution_count": 3
        }
      ]
    },
    {
      "cell_type": "markdown",
      "metadata": {
        "id": "NaY5XSUsKYJr"
      },
      "source": [
        "# Creating a test dataframe:\n",
        "\n",
        "At this point I need to split the data in such a way that I keep some aside which the computer will not see at all in the process of training. \n",
        "\n",
        "I am going to take out 10 Years of data and see if our model can accurately predict the information that we already know."
      ]
    },
    {
      "cell_type": "code",
      "metadata": {
        "id": "FGsXgUL9KqIn"
      },
      "source": [
        ""
      ],
      "execution_count": null,
      "outputs": []
    },
    {
      "cell_type": "code",
      "metadata": {
        "id": "W574G8hkfle-"
      },
      "source": [
        "#let me create a column called Year, Quarter,\n",
        "\n",
        "data['Year'] = data['Date'].apply(lambda x: x.year)\n",
        "data[\"Quarter\"] = data['Date'].apply(lambda x: x.quarter)"
      ],
      "execution_count": null,
      "outputs": []
    },
    {
      "cell_type": "code",
      "metadata": {
        "id": "0o2042KgoJjw",
        "outputId": "fab590a2-d604-477c-c689-6342ef33ec1e",
        "colab": {
          "base_uri": "https://localhost:8080/",
          "height": 173
        }
      },
      "source": [
        "data.head(4)"
      ],
      "execution_count": null,
      "outputs": [
        {
          "output_type": "execute_result",
          "data": {
            "text/html": [
              "<div>\n",
              "<style scoped>\n",
              "    .dataframe tbody tr th:only-of-type {\n",
              "        vertical-align: middle;\n",
              "    }\n",
              "\n",
              "    .dataframe tbody tr th {\n",
              "        vertical-align: top;\n",
              "    }\n",
              "\n",
              "    .dataframe thead th {\n",
              "        text-align: right;\n",
              "    }\n",
              "</style>\n",
              "<table border=\"1\" class=\"dataframe\">\n",
              "  <thead>\n",
              "    <tr style=\"text-align: right;\">\n",
              "      <th></th>\n",
              "      <th>Date</th>\n",
              "      <th>Open</th>\n",
              "      <th>High</th>\n",
              "      <th>Low</th>\n",
              "      <th>Close</th>\n",
              "      <th>Adj Close</th>\n",
              "      <th>Volume</th>\n",
              "      <th>Year</th>\n",
              "      <th>Quarter</th>\n",
              "    </tr>\n",
              "  </thead>\n",
              "  <tbody>\n",
              "    <tr>\n",
              "      <th>0</th>\n",
              "      <td>1971-02-05</td>\n",
              "      <td>100.000000</td>\n",
              "      <td>100.000000</td>\n",
              "      <td>100.000000</td>\n",
              "      <td>100.000000</td>\n",
              "      <td>100.000000</td>\n",
              "      <td>0</td>\n",
              "      <td>1971</td>\n",
              "      <td>1</td>\n",
              "    </tr>\n",
              "    <tr>\n",
              "      <th>1</th>\n",
              "      <td>1971-02-08</td>\n",
              "      <td>100.839996</td>\n",
              "      <td>100.839996</td>\n",
              "      <td>100.839996</td>\n",
              "      <td>100.839996</td>\n",
              "      <td>100.839996</td>\n",
              "      <td>0</td>\n",
              "      <td>1971</td>\n",
              "      <td>1</td>\n",
              "    </tr>\n",
              "    <tr>\n",
              "      <th>2</th>\n",
              "      <td>1971-02-09</td>\n",
              "      <td>100.760002</td>\n",
              "      <td>100.760002</td>\n",
              "      <td>100.760002</td>\n",
              "      <td>100.760002</td>\n",
              "      <td>100.760002</td>\n",
              "      <td>0</td>\n",
              "      <td>1971</td>\n",
              "      <td>1</td>\n",
              "    </tr>\n",
              "    <tr>\n",
              "      <th>3</th>\n",
              "      <td>1971-02-10</td>\n",
              "      <td>100.690002</td>\n",
              "      <td>100.690002</td>\n",
              "      <td>100.690002</td>\n",
              "      <td>100.690002</td>\n",
              "      <td>100.690002</td>\n",
              "      <td>0</td>\n",
              "      <td>1971</td>\n",
              "      <td>1</td>\n",
              "    </tr>\n",
              "  </tbody>\n",
              "</table>\n",
              "</div>"
            ],
            "text/plain": [
              "        Date        Open        High  ...  Volume  Year  Quarter\n",
              "0 1971-02-05  100.000000  100.000000  ...       0  1971        1\n",
              "1 1971-02-08  100.839996  100.839996  ...       0  1971        1\n",
              "2 1971-02-09  100.760002  100.760002  ...       0  1971        1\n",
              "3 1971-02-10  100.690002  100.690002  ...       0  1971        1\n",
              "\n",
              "[4 rows x 9 columns]"
            ]
          },
          "metadata": {
            "tags": []
          },
          "execution_count": 5
        }
      ]
    },
    {
      "cell_type": "code",
      "metadata": {
        "id": "lMfNi_aplU2r"
      },
      "source": [
        "#I want to categorize the Volume columns\n",
        "data['Volume'] = abs(data[\"Volume\"])\n",
        "data['Bins'] = pd.cut((data['Volume']),3, labels=False)\n",
        "data['Change'] = data['Close'] - data['Open']\n",
        "#redundancy of data: \n",
        "\n",
        "#create a statistic based on aggregation\n",
        "#statistics\n",
        "data['%Change'] = (data['Change']/data['Open']) *100\n",
        "\n",
        "#classify the aggregative statistic.\n",
        "data[\"Direction\"] = data['Change'].apply(lambda x: 1 if x >0 else 0)"
      ],
      "execution_count": null,
      "outputs": []
    },
    {
      "cell_type": "code",
      "metadata": {
        "id": "n6Wmb_yvoM8j",
        "outputId": "8b295706-e905-4b99-a715-6dd9a2215d28",
        "colab": {
          "base_uri": "https://localhost:8080/",
          "height": 278
        }
      },
      "source": [
        "data.head(4)"
      ],
      "execution_count": null,
      "outputs": [
        {
          "output_type": "execute_result",
          "data": {
            "text/html": [
              "<div>\n",
              "<style scoped>\n",
              "    .dataframe tbody tr th:only-of-type {\n",
              "        vertical-align: middle;\n",
              "    }\n",
              "\n",
              "    .dataframe tbody tr th {\n",
              "        vertical-align: top;\n",
              "    }\n",
              "\n",
              "    .dataframe thead th {\n",
              "        text-align: right;\n",
              "    }\n",
              "</style>\n",
              "<table border=\"1\" class=\"dataframe\">\n",
              "  <thead>\n",
              "    <tr style=\"text-align: right;\">\n",
              "      <th></th>\n",
              "      <th>Date</th>\n",
              "      <th>Open</th>\n",
              "      <th>High</th>\n",
              "      <th>Low</th>\n",
              "      <th>Close</th>\n",
              "      <th>Adj Close</th>\n",
              "      <th>Volume</th>\n",
              "      <th>Year</th>\n",
              "      <th>Quarter</th>\n",
              "      <th>Bins</th>\n",
              "      <th>Change</th>\n",
              "      <th>%Change</th>\n",
              "      <th>Direction</th>\n",
              "      <th>Mid</th>\n",
              "      <th>SMA1</th>\n",
              "      <th>SMA2</th>\n",
              "      <th>Ticks</th>\n",
              "      <th>SMAPosition</th>\n",
              "    </tr>\n",
              "  </thead>\n",
              "  <tbody>\n",
              "    <tr>\n",
              "      <th>35</th>\n",
              "      <td>1971-03-29</td>\n",
              "      <td>105.199997</td>\n",
              "      <td>105.199997</td>\n",
              "      <td>105.199997</td>\n",
              "      <td>105.199997</td>\n",
              "      <td>105.199997</td>\n",
              "      <td>0</td>\n",
              "      <td>1971</td>\n",
              "      <td>1</td>\n",
              "      <td>0</td>\n",
              "      <td>0.0</td>\n",
              "      <td>0.0</td>\n",
              "      <td>0</td>\n",
              "      <td>105.199997</td>\n",
              "      <td>105.199165</td>\n",
              "      <td>102.926388</td>\n",
              "      <td>35</td>\n",
              "      <td>1</td>\n",
              "    </tr>\n",
              "    <tr>\n",
              "      <th>36</th>\n",
              "      <td>1971-03-30</td>\n",
              "      <td>105.440002</td>\n",
              "      <td>105.440002</td>\n",
              "      <td>105.440002</td>\n",
              "      <td>105.440002</td>\n",
              "      <td>105.440002</td>\n",
              "      <td>0</td>\n",
              "      <td>1971</td>\n",
              "      <td>1</td>\n",
              "      <td>0</td>\n",
              "      <td>0.0</td>\n",
              "      <td>0.0</td>\n",
              "      <td>0</td>\n",
              "      <td>105.440002</td>\n",
              "      <td>105.277499</td>\n",
              "      <td>103.077500</td>\n",
              "      <td>36</td>\n",
              "      <td>1</td>\n",
              "    </tr>\n",
              "    <tr>\n",
              "      <th>37</th>\n",
              "      <td>1971-03-31</td>\n",
              "      <td>105.970001</td>\n",
              "      <td>105.970001</td>\n",
              "      <td>105.970001</td>\n",
              "      <td>105.970001</td>\n",
              "      <td>105.970001</td>\n",
              "      <td>0</td>\n",
              "      <td>1971</td>\n",
              "      <td>1</td>\n",
              "      <td>0</td>\n",
              "      <td>0.0</td>\n",
              "      <td>0.0</td>\n",
              "      <td>0</td>\n",
              "      <td>105.970001</td>\n",
              "      <td>105.347499</td>\n",
              "      <td>103.220000</td>\n",
              "      <td>37</td>\n",
              "      <td>1</td>\n",
              "    </tr>\n",
              "    <tr>\n",
              "      <th>38</th>\n",
              "      <td>1971-04-01</td>\n",
              "      <td>106.339996</td>\n",
              "      <td>106.339996</td>\n",
              "      <td>106.339996</td>\n",
              "      <td>106.339996</td>\n",
              "      <td>106.339996</td>\n",
              "      <td>0</td>\n",
              "      <td>1971</td>\n",
              "      <td>2</td>\n",
              "      <td>0</td>\n",
              "      <td>0.0</td>\n",
              "      <td>0.0</td>\n",
              "      <td>0</td>\n",
              "      <td>106.339996</td>\n",
              "      <td>105.412499</td>\n",
              "      <td>103.375000</td>\n",
              "      <td>38</td>\n",
              "      <td>1</td>\n",
              "    </tr>\n",
              "  </tbody>\n",
              "</table>\n",
              "</div>"
            ],
            "text/plain": [
              "         Date        Open        High  ...        SMA2  Ticks  SMAPosition\n",
              "35 1971-03-29  105.199997  105.199997  ...  102.926388     35            1\n",
              "36 1971-03-30  105.440002  105.440002  ...  103.077500     36            1\n",
              "37 1971-03-31  105.970001  105.970001  ...  103.220000     37            1\n",
              "38 1971-04-01  106.339996  106.339996  ...  103.375000     38            1\n",
              "\n",
              "[4 rows x 18 columns]"
            ]
          },
          "metadata": {
            "tags": []
          },
          "execution_count": 62
        }
      ]
    },
    {
      "cell_type": "code",
      "metadata": {
        "id": "ZlEn99L55iTd"
      },
      "source": [
        "#SMA - Simple Moving Average:\n",
        "data['Mid'] = (data['Close'] + data['Open'])/2"
      ],
      "execution_count": null,
      "outputs": []
    },
    {
      "cell_type": "code",
      "metadata": {
        "id": "2g4_luAgoQ5L",
        "outputId": "c6ebf154-998b-4195-e658-f2871d1ac674",
        "colab": {
          "base_uri": "https://localhost:8080/",
          "height": 204
        }
      },
      "source": [
        "data.head()"
      ],
      "execution_count": null,
      "outputs": [
        {
          "output_type": "execute_result",
          "data": {
            "text/html": [
              "<div>\n",
              "<style scoped>\n",
              "    .dataframe tbody tr th:only-of-type {\n",
              "        vertical-align: middle;\n",
              "    }\n",
              "\n",
              "    .dataframe tbody tr th {\n",
              "        vertical-align: top;\n",
              "    }\n",
              "\n",
              "    .dataframe thead th {\n",
              "        text-align: right;\n",
              "    }\n",
              "</style>\n",
              "<table border=\"1\" class=\"dataframe\">\n",
              "  <thead>\n",
              "    <tr style=\"text-align: right;\">\n",
              "      <th></th>\n",
              "      <th>Date</th>\n",
              "      <th>Open</th>\n",
              "      <th>High</th>\n",
              "      <th>Low</th>\n",
              "      <th>Close</th>\n",
              "      <th>Adj Close</th>\n",
              "      <th>Volume</th>\n",
              "      <th>Year</th>\n",
              "      <th>Quarter</th>\n",
              "      <th>Bins</th>\n",
              "      <th>Change</th>\n",
              "      <th>%Change</th>\n",
              "      <th>Direction</th>\n",
              "      <th>Mid</th>\n",
              "    </tr>\n",
              "  </thead>\n",
              "  <tbody>\n",
              "    <tr>\n",
              "      <th>0</th>\n",
              "      <td>1971-02-05</td>\n",
              "      <td>100.000000</td>\n",
              "      <td>100.000000</td>\n",
              "      <td>100.000000</td>\n",
              "      <td>100.000000</td>\n",
              "      <td>100.000000</td>\n",
              "      <td>0</td>\n",
              "      <td>1971</td>\n",
              "      <td>1</td>\n",
              "      <td>0</td>\n",
              "      <td>0.0</td>\n",
              "      <td>0.0</td>\n",
              "      <td>0</td>\n",
              "      <td>100.000000</td>\n",
              "    </tr>\n",
              "    <tr>\n",
              "      <th>1</th>\n",
              "      <td>1971-02-08</td>\n",
              "      <td>100.839996</td>\n",
              "      <td>100.839996</td>\n",
              "      <td>100.839996</td>\n",
              "      <td>100.839996</td>\n",
              "      <td>100.839996</td>\n",
              "      <td>0</td>\n",
              "      <td>1971</td>\n",
              "      <td>1</td>\n",
              "      <td>0</td>\n",
              "      <td>0.0</td>\n",
              "      <td>0.0</td>\n",
              "      <td>0</td>\n",
              "      <td>100.839996</td>\n",
              "    </tr>\n",
              "    <tr>\n",
              "      <th>2</th>\n",
              "      <td>1971-02-09</td>\n",
              "      <td>100.760002</td>\n",
              "      <td>100.760002</td>\n",
              "      <td>100.760002</td>\n",
              "      <td>100.760002</td>\n",
              "      <td>100.760002</td>\n",
              "      <td>0</td>\n",
              "      <td>1971</td>\n",
              "      <td>1</td>\n",
              "      <td>0</td>\n",
              "      <td>0.0</td>\n",
              "      <td>0.0</td>\n",
              "      <td>0</td>\n",
              "      <td>100.760002</td>\n",
              "    </tr>\n",
              "    <tr>\n",
              "      <th>3</th>\n",
              "      <td>1971-02-10</td>\n",
              "      <td>100.690002</td>\n",
              "      <td>100.690002</td>\n",
              "      <td>100.690002</td>\n",
              "      <td>100.690002</td>\n",
              "      <td>100.690002</td>\n",
              "      <td>0</td>\n",
              "      <td>1971</td>\n",
              "      <td>1</td>\n",
              "      <td>0</td>\n",
              "      <td>0.0</td>\n",
              "      <td>0.0</td>\n",
              "      <td>0</td>\n",
              "      <td>100.690002</td>\n",
              "    </tr>\n",
              "    <tr>\n",
              "      <th>4</th>\n",
              "      <td>1971-02-11</td>\n",
              "      <td>101.449997</td>\n",
              "      <td>101.449997</td>\n",
              "      <td>101.449997</td>\n",
              "      <td>101.449997</td>\n",
              "      <td>101.449997</td>\n",
              "      <td>0</td>\n",
              "      <td>1971</td>\n",
              "      <td>1</td>\n",
              "      <td>0</td>\n",
              "      <td>0.0</td>\n",
              "      <td>0.0</td>\n",
              "      <td>0</td>\n",
              "      <td>101.449997</td>\n",
              "    </tr>\n",
              "  </tbody>\n",
              "</table>\n",
              "</div>"
            ],
            "text/plain": [
              "        Date        Open        High  ...  %Change  Direction         Mid\n",
              "0 1971-02-05  100.000000  100.000000  ...      0.0          0  100.000000\n",
              "1 1971-02-08  100.839996  100.839996  ...      0.0          0  100.839996\n",
              "2 1971-02-09  100.760002  100.760002  ...      0.0          0  100.760002\n",
              "3 1971-02-10  100.690002  100.690002  ...      0.0          0  100.690002\n",
              "4 1971-02-11  101.449997  101.449997  ...      0.0          0  101.449997\n",
              "\n",
              "[5 rows x 14 columns]"
            ]
          },
          "metadata": {
            "tags": []
          },
          "execution_count": 9
        }
      ]
    },
    {
      "cell_type": "code",
      "metadata": {
        "id": "BiYV_sql58Wk"
      },
      "source": [
        "#Rolling Mean\n",
        "\n",
        "data['SMA1'] = data['Mid'].rolling(12).mean()\n",
        "data['SMA2'] = data['Mid'].rolling(36).mean()"
      ],
      "execution_count": null,
      "outputs": []
    },
    {
      "cell_type": "code",
      "metadata": {
        "id": "3gvMQQ32oToF",
        "outputId": "32f689b5-5d9c-4e9c-c1f7-827f9f8a7750",
        "colab": {
          "base_uri": "https://localhost:8080/",
          "height": 258
        }
      },
      "source": [
        "data.head(4)"
      ],
      "execution_count": null,
      "outputs": [
        {
          "output_type": "execute_result",
          "data": {
            "text/html": [
              "<div>\n",
              "<style scoped>\n",
              "    .dataframe tbody tr th:only-of-type {\n",
              "        vertical-align: middle;\n",
              "    }\n",
              "\n",
              "    .dataframe tbody tr th {\n",
              "        vertical-align: top;\n",
              "    }\n",
              "\n",
              "    .dataframe thead th {\n",
              "        text-align: right;\n",
              "    }\n",
              "</style>\n",
              "<table border=\"1\" class=\"dataframe\">\n",
              "  <thead>\n",
              "    <tr style=\"text-align: right;\">\n",
              "      <th></th>\n",
              "      <th>Date</th>\n",
              "      <th>Open</th>\n",
              "      <th>High</th>\n",
              "      <th>Low</th>\n",
              "      <th>Close</th>\n",
              "      <th>Adj Close</th>\n",
              "      <th>Volume</th>\n",
              "      <th>Year</th>\n",
              "      <th>Quarter</th>\n",
              "      <th>Bins</th>\n",
              "      <th>Change</th>\n",
              "      <th>%Change</th>\n",
              "      <th>Direction</th>\n",
              "      <th>Mid</th>\n",
              "      <th>SMA1</th>\n",
              "      <th>SMA2</th>\n",
              "    </tr>\n",
              "  </thead>\n",
              "  <tbody>\n",
              "    <tr>\n",
              "      <th>0</th>\n",
              "      <td>1971-02-05</td>\n",
              "      <td>100.000000</td>\n",
              "      <td>100.000000</td>\n",
              "      <td>100.000000</td>\n",
              "      <td>100.000000</td>\n",
              "      <td>100.000000</td>\n",
              "      <td>0</td>\n",
              "      <td>1971</td>\n",
              "      <td>1</td>\n",
              "      <td>0</td>\n",
              "      <td>0.0</td>\n",
              "      <td>0.0</td>\n",
              "      <td>0</td>\n",
              "      <td>100.000000</td>\n",
              "      <td>NaN</td>\n",
              "      <td>NaN</td>\n",
              "    </tr>\n",
              "    <tr>\n",
              "      <th>1</th>\n",
              "      <td>1971-02-08</td>\n",
              "      <td>100.839996</td>\n",
              "      <td>100.839996</td>\n",
              "      <td>100.839996</td>\n",
              "      <td>100.839996</td>\n",
              "      <td>100.839996</td>\n",
              "      <td>0</td>\n",
              "      <td>1971</td>\n",
              "      <td>1</td>\n",
              "      <td>0</td>\n",
              "      <td>0.0</td>\n",
              "      <td>0.0</td>\n",
              "      <td>0</td>\n",
              "      <td>100.839996</td>\n",
              "      <td>NaN</td>\n",
              "      <td>NaN</td>\n",
              "    </tr>\n",
              "    <tr>\n",
              "      <th>2</th>\n",
              "      <td>1971-02-09</td>\n",
              "      <td>100.760002</td>\n",
              "      <td>100.760002</td>\n",
              "      <td>100.760002</td>\n",
              "      <td>100.760002</td>\n",
              "      <td>100.760002</td>\n",
              "      <td>0</td>\n",
              "      <td>1971</td>\n",
              "      <td>1</td>\n",
              "      <td>0</td>\n",
              "      <td>0.0</td>\n",
              "      <td>0.0</td>\n",
              "      <td>0</td>\n",
              "      <td>100.760002</td>\n",
              "      <td>NaN</td>\n",
              "      <td>NaN</td>\n",
              "    </tr>\n",
              "    <tr>\n",
              "      <th>3</th>\n",
              "      <td>1971-02-10</td>\n",
              "      <td>100.690002</td>\n",
              "      <td>100.690002</td>\n",
              "      <td>100.690002</td>\n",
              "      <td>100.690002</td>\n",
              "      <td>100.690002</td>\n",
              "      <td>0</td>\n",
              "      <td>1971</td>\n",
              "      <td>1</td>\n",
              "      <td>0</td>\n",
              "      <td>0.0</td>\n",
              "      <td>0.0</td>\n",
              "      <td>0</td>\n",
              "      <td>100.690002</td>\n",
              "      <td>NaN</td>\n",
              "      <td>NaN</td>\n",
              "    </tr>\n",
              "  </tbody>\n",
              "</table>\n",
              "</div>"
            ],
            "text/plain": [
              "        Date        Open        High  ...         Mid  SMA1  SMA2\n",
              "0 1971-02-05  100.000000  100.000000  ...  100.000000   NaN   NaN\n",
              "1 1971-02-08  100.839996  100.839996  ...  100.839996   NaN   NaN\n",
              "2 1971-02-09  100.760002  100.760002  ...  100.760002   NaN   NaN\n",
              "3 1971-02-10  100.690002  100.690002  ...  100.690002   NaN   NaN\n",
              "\n",
              "[4 rows x 16 columns]"
            ]
          },
          "metadata": {
            "tags": []
          },
          "execution_count": 11
        }
      ]
    },
    {
      "cell_type": "code",
      "metadata": {
        "id": "dlyNpaxT8IYq"
      },
      "source": [
        "#this is an alias for the dates, so we can plot using this instead of using the dates to plot the data\n",
        "data['Ticks'] = range(0, len(data.Date.index))"
      ],
      "execution_count": null,
      "outputs": []
    },
    {
      "cell_type": "code",
      "metadata": {
        "id": "uU-b1eGtoWJo",
        "outputId": "a6eed1fe-84e5-47eb-a70c-ee903a6be552",
        "colab": {
          "base_uri": "https://localhost:8080/",
          "height": 278
        }
      },
      "source": [
        "data.head(4)"
      ],
      "execution_count": null,
      "outputs": [
        {
          "output_type": "execute_result",
          "data": {
            "text/html": [
              "<div>\n",
              "<style scoped>\n",
              "    .dataframe tbody tr th:only-of-type {\n",
              "        vertical-align: middle;\n",
              "    }\n",
              "\n",
              "    .dataframe tbody tr th {\n",
              "        vertical-align: top;\n",
              "    }\n",
              "\n",
              "    .dataframe thead th {\n",
              "        text-align: right;\n",
              "    }\n",
              "</style>\n",
              "<table border=\"1\" class=\"dataframe\">\n",
              "  <thead>\n",
              "    <tr style=\"text-align: right;\">\n",
              "      <th></th>\n",
              "      <th>Date</th>\n",
              "      <th>Open</th>\n",
              "      <th>High</th>\n",
              "      <th>Low</th>\n",
              "      <th>Close</th>\n",
              "      <th>Adj Close</th>\n",
              "      <th>Volume</th>\n",
              "      <th>Year</th>\n",
              "      <th>Quarter</th>\n",
              "      <th>Bins</th>\n",
              "      <th>Change</th>\n",
              "      <th>%Change</th>\n",
              "      <th>Direction</th>\n",
              "      <th>Mid</th>\n",
              "      <th>SMA1</th>\n",
              "      <th>SMA2</th>\n",
              "      <th>Ticks</th>\n",
              "    </tr>\n",
              "  </thead>\n",
              "  <tbody>\n",
              "    <tr>\n",
              "      <th>0</th>\n",
              "      <td>1971-02-05</td>\n",
              "      <td>100.000000</td>\n",
              "      <td>100.000000</td>\n",
              "      <td>100.000000</td>\n",
              "      <td>100.000000</td>\n",
              "      <td>100.000000</td>\n",
              "      <td>0</td>\n",
              "      <td>1971</td>\n",
              "      <td>1</td>\n",
              "      <td>0</td>\n",
              "      <td>0.0</td>\n",
              "      <td>0.0</td>\n",
              "      <td>0</td>\n",
              "      <td>100.000000</td>\n",
              "      <td>NaN</td>\n",
              "      <td>NaN</td>\n",
              "      <td>0</td>\n",
              "    </tr>\n",
              "    <tr>\n",
              "      <th>1</th>\n",
              "      <td>1971-02-08</td>\n",
              "      <td>100.839996</td>\n",
              "      <td>100.839996</td>\n",
              "      <td>100.839996</td>\n",
              "      <td>100.839996</td>\n",
              "      <td>100.839996</td>\n",
              "      <td>0</td>\n",
              "      <td>1971</td>\n",
              "      <td>1</td>\n",
              "      <td>0</td>\n",
              "      <td>0.0</td>\n",
              "      <td>0.0</td>\n",
              "      <td>0</td>\n",
              "      <td>100.839996</td>\n",
              "      <td>NaN</td>\n",
              "      <td>NaN</td>\n",
              "      <td>1</td>\n",
              "    </tr>\n",
              "    <tr>\n",
              "      <th>2</th>\n",
              "      <td>1971-02-09</td>\n",
              "      <td>100.760002</td>\n",
              "      <td>100.760002</td>\n",
              "      <td>100.760002</td>\n",
              "      <td>100.760002</td>\n",
              "      <td>100.760002</td>\n",
              "      <td>0</td>\n",
              "      <td>1971</td>\n",
              "      <td>1</td>\n",
              "      <td>0</td>\n",
              "      <td>0.0</td>\n",
              "      <td>0.0</td>\n",
              "      <td>0</td>\n",
              "      <td>100.760002</td>\n",
              "      <td>NaN</td>\n",
              "      <td>NaN</td>\n",
              "      <td>2</td>\n",
              "    </tr>\n",
              "    <tr>\n",
              "      <th>3</th>\n",
              "      <td>1971-02-10</td>\n",
              "      <td>100.690002</td>\n",
              "      <td>100.690002</td>\n",
              "      <td>100.690002</td>\n",
              "      <td>100.690002</td>\n",
              "      <td>100.690002</td>\n",
              "      <td>0</td>\n",
              "      <td>1971</td>\n",
              "      <td>1</td>\n",
              "      <td>0</td>\n",
              "      <td>0.0</td>\n",
              "      <td>0.0</td>\n",
              "      <td>0</td>\n",
              "      <td>100.690002</td>\n",
              "      <td>NaN</td>\n",
              "      <td>NaN</td>\n",
              "      <td>3</td>\n",
              "    </tr>\n",
              "  </tbody>\n",
              "</table>\n",
              "</div>"
            ],
            "text/plain": [
              "        Date        Open        High         Low  ...         Mid  SMA1  SMA2  Ticks\n",
              "0 1971-02-05  100.000000  100.000000  100.000000  ...  100.000000   NaN   NaN      0\n",
              "1 1971-02-08  100.839996  100.839996  100.839996  ...  100.839996   NaN   NaN      1\n",
              "2 1971-02-09  100.760002  100.760002  100.760002  ...  100.760002   NaN   NaN      2\n",
              "3 1971-02-10  100.690002  100.690002  100.690002  ...  100.690002   NaN   NaN      3\n",
              "\n",
              "[4 rows x 17 columns]"
            ]
          },
          "metadata": {
            "tags": []
          },
          "execution_count": 13
        }
      ]
    },
    {
      "cell_type": "code",
      "metadata": {
        "id": "UiHQR46QZ_Ax",
        "outputId": "07f8eb52-5ff0-4837-9bd1-a3c3a5eaef4d",
        "colab": {
          "base_uri": "https://localhost:8080/",
          "height": 309
        }
      },
      "source": [
        "#Let's take a look at the tail columns of the data\n",
        "data.tail(5)"
      ],
      "execution_count": null,
      "outputs": [
        {
          "output_type": "execute_result",
          "data": {
            "text/html": [
              "<div>\n",
              "<style scoped>\n",
              "    .dataframe tbody tr th:only-of-type {\n",
              "        vertical-align: middle;\n",
              "    }\n",
              "\n",
              "    .dataframe tbody tr th {\n",
              "        vertical-align: top;\n",
              "    }\n",
              "\n",
              "    .dataframe thead th {\n",
              "        text-align: right;\n",
              "    }\n",
              "</style>\n",
              "<table border=\"1\" class=\"dataframe\">\n",
              "  <thead>\n",
              "    <tr style=\"text-align: right;\">\n",
              "      <th></th>\n",
              "      <th>Date</th>\n",
              "      <th>Open</th>\n",
              "      <th>High</th>\n",
              "      <th>Low</th>\n",
              "      <th>Close</th>\n",
              "      <th>Adj Close</th>\n",
              "      <th>Volume</th>\n",
              "      <th>Year</th>\n",
              "      <th>Quarter</th>\n",
              "      <th>Bins</th>\n",
              "      <th>Change</th>\n",
              "      <th>%Change</th>\n",
              "      <th>Direction</th>\n",
              "      <th>Mid</th>\n",
              "      <th>SMA1</th>\n",
              "      <th>SMA2</th>\n",
              "      <th>Ticks</th>\n",
              "    </tr>\n",
              "  </thead>\n",
              "  <tbody>\n",
              "    <tr>\n",
              "      <th>12408</th>\n",
              "      <td>2020-04-17</td>\n",
              "      <td>8667.480469</td>\n",
              "      <td>8670.299805</td>\n",
              "      <td>8531.690430</td>\n",
              "      <td>8650.139648</td>\n",
              "      <td>8650.139648</td>\n",
              "      <td>4335020000</td>\n",
              "      <td>2020</td>\n",
              "      <td>2</td>\n",
              "      <td>2</td>\n",
              "      <td>-17.340821</td>\n",
              "      <td>-0.200068</td>\n",
              "      <td>0</td>\n",
              "      <td>8658.810058</td>\n",
              "      <td>8030.097961</td>\n",
              "      <td>7893.377753</td>\n",
              "      <td>12408</td>\n",
              "    </tr>\n",
              "    <tr>\n",
              "      <th>12409</th>\n",
              "      <td>2020-04-20</td>\n",
              "      <td>8553.379883</td>\n",
              "      <td>8684.910156</td>\n",
              "      <td>8553.379883</td>\n",
              "      <td>8560.730469</td>\n",
              "      <td>8560.730469</td>\n",
              "      <td>3796950000</td>\n",
              "      <td>2020</td>\n",
              "      <td>2</td>\n",
              "      <td>2</td>\n",
              "      <td>7.350586</td>\n",
              "      <td>0.085938</td>\n",
              "      <td>1</td>\n",
              "      <td>8557.055176</td>\n",
              "      <td>8125.682556</td>\n",
              "      <td>7890.649970</td>\n",
              "      <td>12409</td>\n",
              "    </tr>\n",
              "    <tr>\n",
              "      <th>12410</th>\n",
              "      <td>2020-04-21</td>\n",
              "      <td>8460.690430</td>\n",
              "      <td>8480.290039</td>\n",
              "      <td>8215.690430</td>\n",
              "      <td>8263.230469</td>\n",
              "      <td>8263.230469</td>\n",
              "      <td>3756290000</td>\n",
              "      <td>2020</td>\n",
              "      <td>2</td>\n",
              "      <td>2</td>\n",
              "      <td>-197.459961</td>\n",
              "      <td>-2.333852</td>\n",
              "      <td>0</td>\n",
              "      <td>8361.960450</td>\n",
              "      <td>8205.647583</td>\n",
              "      <td>7889.077894</td>\n",
              "      <td>12410</td>\n",
              "    </tr>\n",
              "    <tr>\n",
              "      <th>12411</th>\n",
              "      <td>2020-04-22</td>\n",
              "      <td>8434.549805</td>\n",
              "      <td>8537.309570</td>\n",
              "      <td>8404.540039</td>\n",
              "      <td>8495.379883</td>\n",
              "      <td>8495.379883</td>\n",
              "      <td>3025060000</td>\n",
              "      <td>2020</td>\n",
              "      <td>2</td>\n",
              "      <td>1</td>\n",
              "      <td>60.830078</td>\n",
              "      <td>0.721201</td>\n",
              "      <td>1</td>\n",
              "      <td>8464.964844</td>\n",
              "      <td>8292.296733</td>\n",
              "      <td>7879.503174</td>\n",
              "      <td>12411</td>\n",
              "    </tr>\n",
              "    <tr>\n",
              "      <th>12412</th>\n",
              "      <td>2020-04-23</td>\n",
              "      <td>8528.839844</td>\n",
              "      <td>8635.230469</td>\n",
              "      <td>8475.200195</td>\n",
              "      <td>8494.750000</td>\n",
              "      <td>8494.750000</td>\n",
              "      <td>3734720000</td>\n",
              "      <td>2020</td>\n",
              "      <td>2</td>\n",
              "      <td>2</td>\n",
              "      <td>-34.089844</td>\n",
              "      <td>-0.399701</td>\n",
              "      <td>0</td>\n",
              "      <td>8511.794922</td>\n",
              "      <td>8352.720886</td>\n",
              "      <td>7870.814290</td>\n",
              "      <td>12412</td>\n",
              "    </tr>\n",
              "  </tbody>\n",
              "</table>\n",
              "</div>"
            ],
            "text/plain": [
              "            Date         Open         High  ...         SMA1         SMA2  Ticks\n",
              "12408 2020-04-17  8667.480469  8670.299805  ...  8030.097961  7893.377753  12408\n",
              "12409 2020-04-20  8553.379883  8684.910156  ...  8125.682556  7890.649970  12409\n",
              "12410 2020-04-21  8460.690430  8480.290039  ...  8205.647583  7889.077894  12410\n",
              "12411 2020-04-22  8434.549805  8537.309570  ...  8292.296733  7879.503174  12411\n",
              "12412 2020-04-23  8528.839844  8635.230469  ...  8352.720886  7870.814290  12412\n",
              "\n",
              "[5 rows x 17 columns]"
            ]
          },
          "metadata": {
            "tags": []
          },
          "execution_count": 14
        }
      ]
    },
    {
      "cell_type": "code",
      "metadata": {
        "id": "QECGt8AxaAvQ"
      },
      "source": [
        "#I am going to drop add the NA values\n",
        "data.dropna(inplace=True)"
      ],
      "execution_count": null,
      "outputs": []
    },
    {
      "cell_type": "code",
      "metadata": {
        "id": "_VTSnlV1aTX9",
        "outputId": "a5e0165b-298d-46a8-fe22-148c402432de",
        "colab": {
          "base_uri": "https://localhost:8080/",
          "height": 34
        }
      },
      "source": [
        "#what is the size of the data?\n",
        "data.shape"
      ],
      "execution_count": null,
      "outputs": [
        {
          "output_type": "execute_result",
          "data": {
            "text/plain": [
              "(12378, 17)"
            ]
          },
          "metadata": {
            "tags": []
          },
          "execution_count": 16
        }
      ]
    },
    {
      "cell_type": "code",
      "metadata": {
        "id": "oAjUPdHUpBGM",
        "outputId": "ba3a2f4d-96d5-47ac-ef0b-f7c376ee8992",
        "colab": {
          "base_uri": "https://localhost:8080/",
          "height": 326
        }
      },
      "source": [
        "data.head()"
      ],
      "execution_count": null,
      "outputs": [
        {
          "output_type": "execute_result",
          "data": {
            "text/html": [
              "<div>\n",
              "<style scoped>\n",
              "    .dataframe tbody tr th:only-of-type {\n",
              "        vertical-align: middle;\n",
              "    }\n",
              "\n",
              "    .dataframe tbody tr th {\n",
              "        vertical-align: top;\n",
              "    }\n",
              "\n",
              "    .dataframe thead th {\n",
              "        text-align: right;\n",
              "    }\n",
              "</style>\n",
              "<table border=\"1\" class=\"dataframe\">\n",
              "  <thead>\n",
              "    <tr style=\"text-align: right;\">\n",
              "      <th></th>\n",
              "      <th>Date</th>\n",
              "      <th>Open</th>\n",
              "      <th>High</th>\n",
              "      <th>Low</th>\n",
              "      <th>Close</th>\n",
              "      <th>Adj Close</th>\n",
              "      <th>Volume</th>\n",
              "      <th>Year</th>\n",
              "      <th>Quarter</th>\n",
              "      <th>Bins</th>\n",
              "      <th>Change</th>\n",
              "      <th>%Change</th>\n",
              "      <th>Direction</th>\n",
              "      <th>Mid</th>\n",
              "      <th>SMA1</th>\n",
              "      <th>SMA2</th>\n",
              "      <th>Ticks</th>\n",
              "    </tr>\n",
              "  </thead>\n",
              "  <tbody>\n",
              "    <tr>\n",
              "      <th>35</th>\n",
              "      <td>1971-03-29</td>\n",
              "      <td>105.199997</td>\n",
              "      <td>105.199997</td>\n",
              "      <td>105.199997</td>\n",
              "      <td>105.199997</td>\n",
              "      <td>105.199997</td>\n",
              "      <td>0</td>\n",
              "      <td>1971</td>\n",
              "      <td>1</td>\n",
              "      <td>0</td>\n",
              "      <td>0.0</td>\n",
              "      <td>0.0</td>\n",
              "      <td>0</td>\n",
              "      <td>105.199997</td>\n",
              "      <td>105.199165</td>\n",
              "      <td>102.926388</td>\n",
              "      <td>35</td>\n",
              "    </tr>\n",
              "    <tr>\n",
              "      <th>36</th>\n",
              "      <td>1971-03-30</td>\n",
              "      <td>105.440002</td>\n",
              "      <td>105.440002</td>\n",
              "      <td>105.440002</td>\n",
              "      <td>105.440002</td>\n",
              "      <td>105.440002</td>\n",
              "      <td>0</td>\n",
              "      <td>1971</td>\n",
              "      <td>1</td>\n",
              "      <td>0</td>\n",
              "      <td>0.0</td>\n",
              "      <td>0.0</td>\n",
              "      <td>0</td>\n",
              "      <td>105.440002</td>\n",
              "      <td>105.277499</td>\n",
              "      <td>103.077500</td>\n",
              "      <td>36</td>\n",
              "    </tr>\n",
              "    <tr>\n",
              "      <th>37</th>\n",
              "      <td>1971-03-31</td>\n",
              "      <td>105.970001</td>\n",
              "      <td>105.970001</td>\n",
              "      <td>105.970001</td>\n",
              "      <td>105.970001</td>\n",
              "      <td>105.970001</td>\n",
              "      <td>0</td>\n",
              "      <td>1971</td>\n",
              "      <td>1</td>\n",
              "      <td>0</td>\n",
              "      <td>0.0</td>\n",
              "      <td>0.0</td>\n",
              "      <td>0</td>\n",
              "      <td>105.970001</td>\n",
              "      <td>105.347499</td>\n",
              "      <td>103.220000</td>\n",
              "      <td>37</td>\n",
              "    </tr>\n",
              "    <tr>\n",
              "      <th>38</th>\n",
              "      <td>1971-04-01</td>\n",
              "      <td>106.339996</td>\n",
              "      <td>106.339996</td>\n",
              "      <td>106.339996</td>\n",
              "      <td>106.339996</td>\n",
              "      <td>106.339996</td>\n",
              "      <td>0</td>\n",
              "      <td>1971</td>\n",
              "      <td>2</td>\n",
              "      <td>0</td>\n",
              "      <td>0.0</td>\n",
              "      <td>0.0</td>\n",
              "      <td>0</td>\n",
              "      <td>106.339996</td>\n",
              "      <td>105.412499</td>\n",
              "      <td>103.375000</td>\n",
              "      <td>38</td>\n",
              "    </tr>\n",
              "    <tr>\n",
              "      <th>39</th>\n",
              "      <td>1971-04-02</td>\n",
              "      <td>106.860001</td>\n",
              "      <td>106.860001</td>\n",
              "      <td>106.860001</td>\n",
              "      <td>106.860001</td>\n",
              "      <td>106.860001</td>\n",
              "      <td>0</td>\n",
              "      <td>1971</td>\n",
              "      <td>2</td>\n",
              "      <td>0</td>\n",
              "      <td>0.0</td>\n",
              "      <td>0.0</td>\n",
              "      <td>0</td>\n",
              "      <td>106.860001</td>\n",
              "      <td>105.525832</td>\n",
              "      <td>103.546388</td>\n",
              "      <td>39</td>\n",
              "    </tr>\n",
              "  </tbody>\n",
              "</table>\n",
              "</div>"
            ],
            "text/plain": [
              "         Date        Open        High  ...        SMA1        SMA2  Ticks\n",
              "35 1971-03-29  105.199997  105.199997  ...  105.199165  102.926388     35\n",
              "36 1971-03-30  105.440002  105.440002  ...  105.277499  103.077500     36\n",
              "37 1971-03-31  105.970001  105.970001  ...  105.347499  103.220000     37\n",
              "38 1971-04-01  106.339996  106.339996  ...  105.412499  103.375000     38\n",
              "39 1971-04-02  106.860001  106.860001  ...  105.525832  103.546388     39\n",
              "\n",
              "[5 rows x 17 columns]"
            ]
          },
          "metadata": {
            "tags": []
          },
          "execution_count": 17
        }
      ]
    },
    {
      "cell_type": "markdown",
      "metadata": {
        "id": "dURQJ5HY7OXA"
      },
      "source": [
        "# Visualize the moving average"
      ]
    },
    {
      "cell_type": "code",
      "metadata": {
        "id": "OBT4-o0H7S5a",
        "outputId": "8c11d0e1-0793-4d21-a2e6-2cf46fec95e8",
        "colab": {
          "base_uri": "https://localhost:8080/",
          "height": 483
        }
      },
      "source": [
        "#moving average visualisation from 2019 March\n",
        "#Here I just want to see the movements of the stock with rolling mean and moving average.\n",
        "dte = data[data['Date'] > '2019-03-01']\n",
        "dte[['Mid', 'SMA1', 'SMA2']].plot(figsize=(13, 8));"
      ],
      "execution_count": null,
      "outputs": [
        {
          "output_type": "display_data",
          "data": {
            "image/png": "[encoded data removed]",
            "text/plain": [
              "<Figure size 936x576 with 1 Axes>"
            ]
          },
          "metadata": {
            "tags": [],
            "needs_background": "light"
          }
        }
      ]
    },
    {
      "cell_type": "code",
      "metadata": {
        "id": "XUYOWt6T-7jb"
      },
      "source": [
        "#SMA Positon\n",
        "# long position = +1 | short position = -1\n",
        "data['SMAPosition'] = np.where(data['SMA1'] > data['SMA2'], 1, -1)"
      ],
      "execution_count": null,
      "outputs": []
    },
    {
      "cell_type": "code",
      "metadata": {
        "id": "N4vKS6m5plAA",
        "outputId": "b0651159-ee2a-43ca-ab5b-915ac2d36256",
        "colab": {
          "base_uri": "https://localhost:8080/",
          "height": 278
        }
      },
      "source": [
        "data.head(4)"
      ],
      "execution_count": null,
      "outputs": [
        {
          "output_type": "execute_result",
          "data": {
            "text/html": [
              "<div>\n",
              "<style scoped>\n",
              "    .dataframe tbody tr th:only-of-type {\n",
              "        vertical-align: middle;\n",
              "    }\n",
              "\n",
              "    .dataframe tbody tr th {\n",
              "        vertical-align: top;\n",
              "    }\n",
              "\n",
              "    .dataframe thead th {\n",
              "        text-align: right;\n",
              "    }\n",
              "</style>\n",
              "<table border=\"1\" class=\"dataframe\">\n",
              "  <thead>\n",
              "    <tr style=\"text-align: right;\">\n",
              "      <th></th>\n",
              "      <th>Date</th>\n",
              "      <th>Open</th>\n",
              "      <th>High</th>\n",
              "      <th>Low</th>\n",
              "      <th>Close</th>\n",
              "      <th>Adj Close</th>\n",
              "      <th>Volume</th>\n",
              "      <th>Year</th>\n",
              "      <th>Quarter</th>\n",
              "      <th>Bins</th>\n",
              "      <th>Change</th>\n",
              "      <th>%Change</th>\n",
              "      <th>Direction</th>\n",
              "      <th>Mid</th>\n",
              "      <th>SMA1</th>\n",
              "      <th>SMA2</th>\n",
              "      <th>Ticks</th>\n",
              "      <th>SMAPosition</th>\n",
              "    </tr>\n",
              "  </thead>\n",
              "  <tbody>\n",
              "    <tr>\n",
              "      <th>35</th>\n",
              "      <td>1971-03-29</td>\n",
              "      <td>105.199997</td>\n",
              "      <td>105.199997</td>\n",
              "      <td>105.199997</td>\n",
              "      <td>105.199997</td>\n",
              "      <td>105.199997</td>\n",
              "      <td>0</td>\n",
              "      <td>1971</td>\n",
              "      <td>1</td>\n",
              "      <td>0</td>\n",
              "      <td>0.0</td>\n",
              "      <td>0.0</td>\n",
              "      <td>0</td>\n",
              "      <td>105.199997</td>\n",
              "      <td>105.199165</td>\n",
              "      <td>102.926388</td>\n",
              "      <td>35</td>\n",
              "      <td>1</td>\n",
              "    </tr>\n",
              "    <tr>\n",
              "      <th>36</th>\n",
              "      <td>1971-03-30</td>\n",
              "      <td>105.440002</td>\n",
              "      <td>105.440002</td>\n",
              "      <td>105.440002</td>\n",
              "      <td>105.440002</td>\n",
              "      <td>105.440002</td>\n",
              "      <td>0</td>\n",
              "      <td>1971</td>\n",
              "      <td>1</td>\n",
              "      <td>0</td>\n",
              "      <td>0.0</td>\n",
              "      <td>0.0</td>\n",
              "      <td>0</td>\n",
              "      <td>105.440002</td>\n",
              "      <td>105.277499</td>\n",
              "      <td>103.077500</td>\n",
              "      <td>36</td>\n",
              "      <td>1</td>\n",
              "    </tr>\n",
              "    <tr>\n",
              "      <th>37</th>\n",
              "      <td>1971-03-31</td>\n",
              "      <td>105.970001</td>\n",
              "      <td>105.970001</td>\n",
              "      <td>105.970001</td>\n",
              "      <td>105.970001</td>\n",
              "      <td>105.970001</td>\n",
              "      <td>0</td>\n",
              "      <td>1971</td>\n",
              "      <td>1</td>\n",
              "      <td>0</td>\n",
              "      <td>0.0</td>\n",
              "      <td>0.0</td>\n",
              "      <td>0</td>\n",
              "      <td>105.970001</td>\n",
              "      <td>105.347499</td>\n",
              "      <td>103.220000</td>\n",
              "      <td>37</td>\n",
              "      <td>1</td>\n",
              "    </tr>\n",
              "    <tr>\n",
              "      <th>38</th>\n",
              "      <td>1971-04-01</td>\n",
              "      <td>106.339996</td>\n",
              "      <td>106.339996</td>\n",
              "      <td>106.339996</td>\n",
              "      <td>106.339996</td>\n",
              "      <td>106.339996</td>\n",
              "      <td>0</td>\n",
              "      <td>1971</td>\n",
              "      <td>2</td>\n",
              "      <td>0</td>\n",
              "      <td>0.0</td>\n",
              "      <td>0.0</td>\n",
              "      <td>0</td>\n",
              "      <td>106.339996</td>\n",
              "      <td>105.412499</td>\n",
              "      <td>103.375000</td>\n",
              "      <td>38</td>\n",
              "      <td>1</td>\n",
              "    </tr>\n",
              "  </tbody>\n",
              "</table>\n",
              "</div>"
            ],
            "text/plain": [
              "         Date        Open        High  ...        SMA2  Ticks  SMAPosition\n",
              "35 1971-03-29  105.199997  105.199997  ...  102.926388     35            1\n",
              "36 1971-03-30  105.440002  105.440002  ...  103.077500     36            1\n",
              "37 1971-03-31  105.970001  105.970001  ...  103.220000     37            1\n",
              "38 1971-04-01  106.339996  106.339996  ...  103.375000     38            1\n",
              "\n",
              "[4 rows x 18 columns]"
            ]
          },
          "metadata": {
            "tags": []
          },
          "execution_count": 20
        }
      ]
    },
    {
      "cell_type": "code",
      "metadata": {
        "id": "B57BWIfn_6qi"
      },
      "source": [
        "# https://gist.github.com/yhilpisch/dfd1e9c87864d5e3d6b54f1943a9c1ec\n",
        "\n",
        "# Please have a look at that link it will help shed some light on this financial data.\n",
        "\n",
        "#https://learn.datacamp.com/courses/time-series-analysis-in-python\n",
        "\n",
        "#take the datacamp course on this matter to help you understand better."
      ],
      "execution_count": null,
      "outputs": []
    },
    {
      "cell_type": "code",
      "metadata": {
        "id": "EWZUhx4G_Bvo",
        "outputId": "117f3329-d72f-489e-d9f3-589cdf889bc4",
        "colab": {
          "base_uri": "https://localhost:8080/",
          "height": 326
        }
      },
      "source": [
        "data.head(5)"
      ],
      "execution_count": null,
      "outputs": [
        {
          "output_type": "execute_result",
          "data": {
            "text/html": [
              "<div>\n",
              "<style scoped>\n",
              "    .dataframe tbody tr th:only-of-type {\n",
              "        vertical-align: middle;\n",
              "    }\n",
              "\n",
              "    .dataframe tbody tr th {\n",
              "        vertical-align: top;\n",
              "    }\n",
              "\n",
              "    .dataframe thead th {\n",
              "        text-align: right;\n",
              "    }\n",
              "</style>\n",
              "<table border=\"1\" class=\"dataframe\">\n",
              "  <thead>\n",
              "    <tr style=\"text-align: right;\">\n",
              "      <th></th>\n",
              "      <th>Date</th>\n",
              "      <th>Open</th>\n",
              "      <th>High</th>\n",
              "      <th>Low</th>\n",
              "      <th>Close</th>\n",
              "      <th>Adj Close</th>\n",
              "      <th>Volume</th>\n",
              "      <th>Year</th>\n",
              "      <th>Quarter</th>\n",
              "      <th>Bins</th>\n",
              "      <th>Change</th>\n",
              "      <th>%Change</th>\n",
              "      <th>Direction</th>\n",
              "      <th>Mid</th>\n",
              "      <th>SMA1</th>\n",
              "      <th>SMA2</th>\n",
              "      <th>Ticks</th>\n",
              "      <th>SMAPosition</th>\n",
              "    </tr>\n",
              "  </thead>\n",
              "  <tbody>\n",
              "    <tr>\n",
              "      <th>35</th>\n",
              "      <td>1971-03-29</td>\n",
              "      <td>105.199997</td>\n",
              "      <td>105.199997</td>\n",
              "      <td>105.199997</td>\n",
              "      <td>105.199997</td>\n",
              "      <td>105.199997</td>\n",
              "      <td>0</td>\n",
              "      <td>1971</td>\n",
              "      <td>1</td>\n",
              "      <td>0</td>\n",
              "      <td>0.0</td>\n",
              "      <td>0.0</td>\n",
              "      <td>0</td>\n",
              "      <td>105.199997</td>\n",
              "      <td>105.199165</td>\n",
              "      <td>102.926388</td>\n",
              "      <td>35</td>\n",
              "      <td>1</td>\n",
              "    </tr>\n",
              "    <tr>\n",
              "      <th>36</th>\n",
              "      <td>1971-03-30</td>\n",
              "      <td>105.440002</td>\n",
              "      <td>105.440002</td>\n",
              "      <td>105.440002</td>\n",
              "      <td>105.440002</td>\n",
              "      <td>105.440002</td>\n",
              "      <td>0</td>\n",
              "      <td>1971</td>\n",
              "      <td>1</td>\n",
              "      <td>0</td>\n",
              "      <td>0.0</td>\n",
              "      <td>0.0</td>\n",
              "      <td>0</td>\n",
              "      <td>105.440002</td>\n",
              "      <td>105.277499</td>\n",
              "      <td>103.077500</td>\n",
              "      <td>36</td>\n",
              "      <td>1</td>\n",
              "    </tr>\n",
              "    <tr>\n",
              "      <th>37</th>\n",
              "      <td>1971-03-31</td>\n",
              "      <td>105.970001</td>\n",
              "      <td>105.970001</td>\n",
              "      <td>105.970001</td>\n",
              "      <td>105.970001</td>\n",
              "      <td>105.970001</td>\n",
              "      <td>0</td>\n",
              "      <td>1971</td>\n",
              "      <td>1</td>\n",
              "      <td>0</td>\n",
              "      <td>0.0</td>\n",
              "      <td>0.0</td>\n",
              "      <td>0</td>\n",
              "      <td>105.970001</td>\n",
              "      <td>105.347499</td>\n",
              "      <td>103.220000</td>\n",
              "      <td>37</td>\n",
              "      <td>1</td>\n",
              "    </tr>\n",
              "    <tr>\n",
              "      <th>38</th>\n",
              "      <td>1971-04-01</td>\n",
              "      <td>106.339996</td>\n",
              "      <td>106.339996</td>\n",
              "      <td>106.339996</td>\n",
              "      <td>106.339996</td>\n",
              "      <td>106.339996</td>\n",
              "      <td>0</td>\n",
              "      <td>1971</td>\n",
              "      <td>2</td>\n",
              "      <td>0</td>\n",
              "      <td>0.0</td>\n",
              "      <td>0.0</td>\n",
              "      <td>0</td>\n",
              "      <td>106.339996</td>\n",
              "      <td>105.412499</td>\n",
              "      <td>103.375000</td>\n",
              "      <td>38</td>\n",
              "      <td>1</td>\n",
              "    </tr>\n",
              "    <tr>\n",
              "      <th>39</th>\n",
              "      <td>1971-04-02</td>\n",
              "      <td>106.860001</td>\n",
              "      <td>106.860001</td>\n",
              "      <td>106.860001</td>\n",
              "      <td>106.860001</td>\n",
              "      <td>106.860001</td>\n",
              "      <td>0</td>\n",
              "      <td>1971</td>\n",
              "      <td>2</td>\n",
              "      <td>0</td>\n",
              "      <td>0.0</td>\n",
              "      <td>0.0</td>\n",
              "      <td>0</td>\n",
              "      <td>106.860001</td>\n",
              "      <td>105.525832</td>\n",
              "      <td>103.546388</td>\n",
              "      <td>39</td>\n",
              "      <td>1</td>\n",
              "    </tr>\n",
              "  </tbody>\n",
              "</table>\n",
              "</div>"
            ],
            "text/plain": [
              "         Date        Open        High  ...        SMA2  Ticks  SMAPosition\n",
              "35 1971-03-29  105.199997  105.199997  ...  102.926388     35            1\n",
              "36 1971-03-30  105.440002  105.440002  ...  103.077500     36            1\n",
              "37 1971-03-31  105.970001  105.970001  ...  103.220000     37            1\n",
              "38 1971-04-01  106.339996  106.339996  ...  103.375000     38            1\n",
              "39 1971-04-02  106.860001  106.860001  ...  103.546388     39            1\n",
              "\n",
              "[5 rows x 18 columns]"
            ]
          },
          "metadata": {
            "tags": []
          },
          "execution_count": 22
        }
      ]
    },
    {
      "cell_type": "code",
      "metadata": {
        "id": "yP0_NgqQIGyl",
        "outputId": "ef94c3de-6ebe-40f1-8769-082f79820217",
        "colab": {
          "base_uri": "https://localhost:8080/",
          "height": 403
        }
      },
      "source": [
        "#visualize how the data is moving oscilating over time\n",
        "#we see that we have more up movements than down\n",
        "#with this we can also use a classification algorithm to tell us if the stock is going up or down and by what percentage.\n",
        "plt.figure(figsize= (6,6))\n",
        "plt.title(\"Counts of Ups Vs Downs\")\n",
        "data.Direction.value_counts().plot(kind = 'bar')\n"
      ],
      "execution_count": null,
      "outputs": [
        {
          "output_type": "execute_result",
          "data": {
            "text/plain": [
              "<matplotlib.axes._subplots.AxesSubplot at 0x7fccda2cf710>"
            ]
          },
          "metadata": {
            "tags": []
          },
          "execution_count": 23
        },
        {
          "output_type": "display_data",
          "data": {
            "image/png": "[encoded data removed]",
            "text/plain": [
              "<Figure size 432x432 with 1 Axes>"
            ]
          },
          "metadata": {
            "tags": [],
            "needs_background": "light"
          }
        }
      ]
    },
    {
      "cell_type": "code",
      "metadata": {
        "id": "aXGOhOOhJdsk",
        "outputId": "ea59a19c-cc75-4dc1-fa9b-37ce25467789",
        "colab": {
          "base_uri": "https://localhost:8080/",
          "height": 545
        }
      },
      "source": [
        "#value counts in years\n",
        "#here I want to make sure I have good data.\n",
        "#so I count all the values based on the years that I downloaded.\n",
        "plt.figure ( figsize = (12,8))\n",
        "sns.countplot(\n",
        "    x = 'Year',\n",
        "    data = data\n",
        "\n",
        ")\n",
        "plt.xticks(rotation = 90)\n",
        "plt.title(\"Count of Records Per Year\")"
      ],
      "execution_count": null,
      "outputs": [
        {
          "output_type": "execute_result",
          "data": {
            "text/plain": [
              "Text(0.5, 1.0, 'Count of Records Per Year')"
            ]
          },
          "metadata": {
            "tags": []
          },
          "execution_count": 24
        },
        {
          "output_type": "display_data",
          "data": {
            "image/png": "[encoded data removed]",
            "text/plain": [
              "<Figure size 864x576 with 1 Axes>"
            ]
          },
          "metadata": {
            "tags": [],
            "needs_background": "light"
          }
        }
      ]
    },
    {
      "cell_type": "code",
      "metadata": {
        "id": "vqH18SAfnNh5",
        "outputId": "abbd83b2-1fbc-4f94-b91b-b99686ca68d7",
        "colab": {
          "base_uri": "https://localhost:8080/",
          "height": 85
        }
      },
      "source": [
        "#value counts based on the bins\n",
        "#I put the data in bins so that its easy to classify them.\n",
        "data.Bins.value_counts()"
      ],
      "execution_count": null,
      "outputs": [
        {
          "output_type": "execute_result",
          "data": {
            "text/plain": [
              "0    9002\n",
              "1    3315\n",
              "2      61\n",
              "Name: Bins, dtype: int64"
            ]
          },
          "metadata": {
            "tags": []
          },
          "execution_count": 25
        }
      ]
    },
    {
      "cell_type": "code",
      "metadata": {
        "id": "V33Y5WgFDuXV",
        "outputId": "06ab5394-1c9c-4b47-8352-b861a9436a3f",
        "colab": {
          "base_uri": "https://localhost:8080/",
          "height": 528
        }
      },
      "source": [
        "#Choose a stat that is a better representation of what is really going on..in the market.\n",
        "#this makes more sense to be the metric we look at.\n",
        "sns.relplot(x = 'Date', y = 'Change', data=data, kind='line', height= 7, aspect= 2,color = 'red')\n",
        "plt.title(\"Change in Prices\")\n",
        "plt.grid()\n",
        "plt.show()"
      ],
      "execution_count": null,
      "outputs": [
        {
          "output_type": "display_data",
          "data": {
            "image/png": "[encoded data removed]",
            "text/plain": [
              "<Figure size 1008x504 with 1 Axes>"
            ]
          },
          "metadata": {
            "tags": [],
            "needs_background": "light"
          }
        }
      ]
    },
    {
      "cell_type": "code",
      "metadata": {
        "id": "zSWa2lUgbiBs",
        "outputId": "d51d37f4-e761-417c-9732-57afb2dd26cb",
        "colab": {
          "base_uri": "https://localhost:8080/",
          "height": 529
        }
      },
      "source": [
        "#plot from 2019: sampled data, when I plot all the data it doesnt make much sense.\n",
        "sns.relplot(x = 'Date', y = 'Close', data=dte, kind='line', height= 7, aspect= 2)\n",
        "plt.title(\"Yearly Close\")\n",
        "plt.grid()\n",
        "plt.show()"
      ],
      "execution_count": null,
      "outputs": [
        {
          "output_type": "display_data",
          "data": {
            "image/png": "[encoded data removed]",
            "text/plain": [
              "<Figure size 1008x504 with 1 Axes>"
            ]
          },
          "metadata": {
            "tags": [],
            "needs_background": "light"
          }
        }
      ]
    },
    {
      "cell_type": "code",
      "metadata": {
        "id": "0VgkmZP3bw5b"
      },
      "source": [
        ""
      ],
      "execution_count": null,
      "outputs": []
    },
    {
      "cell_type": "code",
      "metadata": {
        "id": "uXfti0p4jwKB"
      },
      "source": [
        "# draw a categorical plot based on quaters for one year\n",
        " dt = data.query('Year == 2017')"
      ],
      "execution_count": null,
      "outputs": []
    },
    {
      "cell_type": "code",
      "metadata": {
        "id": "1MpB7MMqj-M4",
        "outputId": "945fb8c7-e317-4324-f940-38c05f1f8445",
        "colab": {
          "base_uri": "https://localhost:8080/",
          "height": 518
        }
      },
      "source": [
        "sns.catplot(x = 'Quarter',\n",
        "            y = 'Volume' ,\n",
        "            kind = 'box',\n",
        "            data = dt,\n",
        "            height = 7,\n",
        "            aspect = 2)\n",
        "plt.title (\"Volumes for the Quarters of 2017\")\n",
        "plt.grid()"
      ],
      "execution_count": null,
      "outputs": [
        {
          "output_type": "display_data",
          "data": {
            "image/png": "[encoded data removed]",
            "text/plain": [
              "<Figure size 1008x504 with 1 Axes>"
            ]
          },
          "metadata": {
            "tags": [],
            "needs_background": "light"
          }
        }
      ]
    },
    {
      "cell_type": "code",
      "metadata": {
        "id": "ZJiLOSvsj_0Y"
      },
      "source": [
        ""
      ],
      "execution_count": null,
      "outputs": []
    },
    {
      "cell_type": "code",
      "metadata": {
        "id": "PYYR_XJjn4Gx"
      },
      "source": [
        "# Resampling\n",
        "\n",
        "# Here I have to split the data in a way that I take some on which I can simulate a futuristic scenario.\n",
        "\n",
        "# since 2020 has the least data I am going to train my algorithm to predict on that data"
      ],
      "execution_count": null,
      "outputs": []
    },
    {
      "cell_type": "code",
      "metadata": {
        "id": "yxoEzLj1Mf9I",
        "outputId": "94fb6d84-7496-4f34-8baf-cc5d5d4012e8",
        "colab": {
          "base_uri": "https://localhost:8080/",
          "height": 340
        }
      },
      "source": [
        "data.dtypes"
      ],
      "execution_count": null,
      "outputs": [
        {
          "output_type": "execute_result",
          "data": {
            "text/plain": [
              "Date           datetime64[ns]\n",
              "Open                  float64\n",
              "High                  float64\n",
              "Low                   float64\n",
              "Close                 float64\n",
              "Adj Close             float64\n",
              "Volume                  int64\n",
              "Year                    int64\n",
              "Quarter                 int64\n",
              "Bins                    int64\n",
              "Change                float64\n",
              "%Change               float64\n",
              "Direction               int64\n",
              "Mid                   float64\n",
              "SMA1                  float64\n",
              "SMA2                  float64\n",
              "Ticks                   int64\n",
              "SMAPosition             int64\n",
              "dtype: object"
            ]
          },
          "metadata": {
            "tags": []
          },
          "execution_count": 31
        }
      ]
    },
    {
      "cell_type": "markdown",
      "metadata": {
        "id": "VuYzUz9cPJts"
      },
      "source": [
        "# Splitting Data"
      ]
    },
    {
      "cell_type": "code",
      "metadata": {
        "id": "Vmb3wcHfTKKA"
      },
      "source": [
        "#create a mask\n",
        "Test = data[data.Date.dt.year == 2020] #mask based on the year. I took out all the 2020 years\n",
        "#the trick is that I already have the results of the price fluctuations so I can build a model and compare how its doing."
      ],
      "execution_count": null,
      "outputs": []
    },
    {
      "cell_type": "code",
      "metadata": {
        "id": "0RtmNekyMIdX"
      },
      "source": [
        "Train = data.drop(index=data[data.Date.dt.year == 2020].index)"
      ],
      "execution_count": null,
      "outputs": []
    },
    {
      "cell_type": "code",
      "metadata": {
        "id": "AoK9dSTWTdMb",
        "outputId": "4d3b2583-a696-4966-c035-d191e7901409",
        "colab": {
          "base_uri": "https://localhost:8080/",
          "height": 102
        }
      },
      "source": [
        "#check whether you have the right years that are needed\n",
        "Train.Year.unique()"
      ],
      "execution_count": null,
      "outputs": [
        {
          "output_type": "execute_result",
          "data": {
            "text/plain": [
              "array([1971, 1972, 1973, 1974, 1975, 1976, 1977, 1978, 1979, 1980, 1981,\n",
              "       1982, 1983, 1984, 1985, 1986, 1987, 1988, 1989, 1990, 1991, 1992,\n",
              "       1993, 1994, 1995, 1996, 1997, 1998, 1999, 2000, 2001, 2002, 2003,\n",
              "       2004, 2005, 2006, 2007, 2008, 2009, 2010, 2011, 2012, 2013, 2014,\n",
              "       2015, 2016, 2017, 2018, 2019])"
            ]
          },
          "metadata": {
            "tags": []
          },
          "execution_count": 34
        }
      ]
    },
    {
      "cell_type": "code",
      "metadata": {
        "id": "TAFQckVpOsyB",
        "outputId": "73a7256d-d636-4fd9-d49d-71037b328185",
        "colab": {
          "base_uri": "https://localhost:8080/",
          "height": 309
        }
      },
      "source": [
        "Test.head()"
      ],
      "execution_count": null,
      "outputs": [
        {
          "output_type": "execute_result",
          "data": {
            "text/html": [
              "<div>\n",
              "<style scoped>\n",
              "    .dataframe tbody tr th:only-of-type {\n",
              "        vertical-align: middle;\n",
              "    }\n",
              "\n",
              "    .dataframe tbody tr th {\n",
              "        vertical-align: top;\n",
              "    }\n",
              "\n",
              "    .dataframe thead th {\n",
              "        text-align: right;\n",
              "    }\n",
              "</style>\n",
              "<table border=\"1\" class=\"dataframe\">\n",
              "  <thead>\n",
              "    <tr style=\"text-align: right;\">\n",
              "      <th></th>\n",
              "      <th>Date</th>\n",
              "      <th>Open</th>\n",
              "      <th>High</th>\n",
              "      <th>Low</th>\n",
              "      <th>Close</th>\n",
              "      <th>Adj Close</th>\n",
              "      <th>Volume</th>\n",
              "      <th>Year</th>\n",
              "      <th>Quarter</th>\n",
              "      <th>Bins</th>\n",
              "      <th>Change</th>\n",
              "      <th>%Change</th>\n",
              "      <th>Direction</th>\n",
              "      <th>Mid</th>\n",
              "      <th>SMA1</th>\n",
              "      <th>SMA2</th>\n",
              "      <th>Ticks</th>\n",
              "      <th>SMAPosition</th>\n",
              "    </tr>\n",
              "  </thead>\n",
              "  <tbody>\n",
              "    <tr>\n",
              "      <th>12335</th>\n",
              "      <td>2020-01-02</td>\n",
              "      <td>9039.459961</td>\n",
              "      <td>9093.429688</td>\n",
              "      <td>9010.889648</td>\n",
              "      <td>9092.190430</td>\n",
              "      <td>9092.190430</td>\n",
              "      <td>2848370000</td>\n",
              "      <td>2020</td>\n",
              "      <td>1</td>\n",
              "      <td>1</td>\n",
              "      <td>52.730469</td>\n",
              "      <td>0.583336</td>\n",
              "      <td>1</td>\n",
              "      <td>9065.825196</td>\n",
              "      <td>8929.567098</td>\n",
              "      <td>8695.693197</td>\n",
              "      <td>12335</td>\n",
              "      <td>1</td>\n",
              "    </tr>\n",
              "    <tr>\n",
              "      <th>12336</th>\n",
              "      <td>2020-01-03</td>\n",
              "      <td>8976.429688</td>\n",
              "      <td>9065.759766</td>\n",
              "      <td>8976.429688</td>\n",
              "      <td>9020.769531</td>\n",
              "      <td>9020.769531</td>\n",
              "      <td>2567400000</td>\n",
              "      <td>2020</td>\n",
              "      <td>1</td>\n",
              "      <td>1</td>\n",
              "      <td>44.339843</td>\n",
              "      <td>0.493959</td>\n",
              "      <td>1</td>\n",
              "      <td>8998.599610</td>\n",
              "      <td>8945.886231</td>\n",
              "      <td>8710.994019</td>\n",
              "      <td>12336</td>\n",
              "      <td>1</td>\n",
              "    </tr>\n",
              "    <tr>\n",
              "      <th>12337</th>\n",
              "      <td>2020-01-06</td>\n",
              "      <td>8943.500000</td>\n",
              "      <td>9072.410156</td>\n",
              "      <td>8943.500000</td>\n",
              "      <td>9071.469727</td>\n",
              "      <td>9071.469727</td>\n",
              "      <td>2788120000</td>\n",
              "      <td>2020</td>\n",
              "      <td>1</td>\n",
              "      <td>1</td>\n",
              "      <td>127.969727</td>\n",
              "      <td>1.430869</td>\n",
              "      <td>1</td>\n",
              "      <td>9007.484863</td>\n",
              "      <td>8960.975383</td>\n",
              "      <td>8725.685818</td>\n",
              "      <td>12337</td>\n",
              "      <td>1</td>\n",
              "    </tr>\n",
              "    <tr>\n",
              "      <th>12338</th>\n",
              "      <td>2020-01-07</td>\n",
              "      <td>9076.639648</td>\n",
              "      <td>9091.929688</td>\n",
              "      <td>9042.549805</td>\n",
              "      <td>9068.580078</td>\n",
              "      <td>9068.580078</td>\n",
              "      <td>2352850000</td>\n",
              "      <td>2020</td>\n",
              "      <td>1</td>\n",
              "      <td>1</td>\n",
              "      <td>-8.059570</td>\n",
              "      <td>-0.088795</td>\n",
              "      <td>0</td>\n",
              "      <td>9072.609863</td>\n",
              "      <td>8981.093262</td>\n",
              "      <td>8742.464993</td>\n",
              "      <td>12338</td>\n",
              "      <td>1</td>\n",
              "    </tr>\n",
              "    <tr>\n",
              "      <th>12339</th>\n",
              "      <td>2020-01-08</td>\n",
              "      <td>9068.030273</td>\n",
              "      <td>9168.889648</td>\n",
              "      <td>9059.379883</td>\n",
              "      <td>9129.240234</td>\n",
              "      <td>9129.240234</td>\n",
              "      <td>2464090000</td>\n",
              "      <td>2020</td>\n",
              "      <td>1</td>\n",
              "      <td>1</td>\n",
              "      <td>61.209961</td>\n",
              "      <td>0.675008</td>\n",
              "      <td>1</td>\n",
              "      <td>9098.635254</td>\n",
              "      <td>9000.721639</td>\n",
              "      <td>8759.925985</td>\n",
              "      <td>12339</td>\n",
              "      <td>1</td>\n",
              "    </tr>\n",
              "  </tbody>\n",
              "</table>\n",
              "</div>"
            ],
            "text/plain": [
              "            Date         Open         High  ...         SMA2  Ticks  SMAPosition\n",
              "12335 2020-01-02  9039.459961  9093.429688  ...  8695.693197  12335            1\n",
              "12336 2020-01-03  8976.429688  9065.759766  ...  8710.994019  12336            1\n",
              "12337 2020-01-06  8943.500000  9072.410156  ...  8725.685818  12337            1\n",
              "12338 2020-01-07  9076.639648  9091.929688  ...  8742.464993  12338            1\n",
              "12339 2020-01-08  9068.030273  9168.889648  ...  8759.925985  12339            1\n",
              "\n",
              "[5 rows x 18 columns]"
            ]
          },
          "metadata": {
            "tags": []
          },
          "execution_count": 35
        }
      ]
    },
    {
      "cell_type": "code",
      "metadata": {
        "id": "8ioaxQVAOZ6s",
        "outputId": "73a7c748-a945-4a55-d164-783ecf4b48fd",
        "colab": {
          "base_uri": "https://localhost:8080/",
          "height": 545
        }
      },
      "source": [
        "#value counts in years\n",
        "#make sure there is no 2020\n",
        "plt.figure ( figsize = (12,8))\n",
        "sns.countplot(\n",
        "    x = 'Year',\n",
        "    data = Train\n",
        "\n",
        ")\n",
        "plt.xticks(rotation = 90)\n",
        "plt.title(\"Count of Records Per Year\")"
      ],
      "execution_count": null,
      "outputs": [
        {
          "output_type": "execute_result",
          "data": {
            "text/plain": [
              "Text(0.5, 1.0, 'Count of Records Per Year')"
            ]
          },
          "metadata": {
            "tags": []
          },
          "execution_count": 36
        },
        {
          "output_type": "display_data",
          "data": {
            "image/png": "[encoded data removed]",
            "text/plain": [
              "<Figure size 864x576 with 1 Axes>"
            ]
          },
          "metadata": {
            "tags": [],
            "needs_background": "light"
          }
        }
      ]
    },
    {
      "cell_type": "markdown",
      "metadata": {
        "id": "0SSsgKYaU2Wr"
      },
      "source": [
        "# Choosing my columns"
      ]
    },
    {
      "cell_type": "code",
      "metadata": {
        "id": "YJR5g9EuTxat"
      },
      "source": [
        "test = Test[['Date','Low','High','Adj Close','Volume','%Change']]\n",
        "train = Train[['Date','Low','High','Adj Close','Volume','%Change']]"
      ],
      "execution_count": null,
      "outputs": []
    },
    {
      "cell_type": "code",
      "metadata": {
        "id": "VkzyiwTsUIh7"
      },
      "source": [
        "#split the test dataset with X,y\n",
        "\n",
        "test_values = test[['Low','High','Adj Close','Volume']]\n",
        "test_label = test[['%Change']]"
      ],
      "execution_count": null,
      "outputs": []
    },
    {
      "cell_type": "code",
      "metadata": {
        "id": "OKL6An-lUITA"
      },
      "source": [
        ""
      ],
      "execution_count": null,
      "outputs": []
    },
    {
      "cell_type": "code",
      "metadata": {
        "id": "NmZj8T2vqOv1"
      },
      "source": [
        "from sklearn.model_selection import train_test_split\n",
        "\n",
        "#let's take X and y out of the dataset\n",
        "y = train['%Change']\n",
        "x = train.drop(columns = ['%Change','Date'])\n",
        "\n",
        " #resample\n",
        "\n",
        "X_train, X_test, y_train, y_test = train_test_split(x,y, test_size = 0.25, shuffle = False)"
      ],
      "execution_count": null,
      "outputs": []
    },
    {
      "cell_type": "code",
      "metadata": {
        "id": "pyIcWTRfrWkM"
      },
      "source": [
        "#importing some models.\n",
        "from sklearn.linear_model import LinearRegression\n",
        "from sklearn.metrics import mean_squared_error, r2_score"
      ],
      "execution_count": null,
      "outputs": []
    },
    {
      "cell_type": "code",
      "metadata": {
        "id": "oW6T1No3t-4A"
      },
      "source": [
        "#base models\n",
        "model = LinearRegression()"
      ],
      "execution_count": null,
      "outputs": []
    },
    {
      "cell_type": "code",
      "metadata": {
        "id": "DlmEqkRovAt3",
        "outputId": "a217881d-5e1b-432d-aeb9-1371b68bd3e9",
        "colab": {
          "base_uri": "https://localhost:8080/",
          "height": 34
        }
      },
      "source": [
        "#fit the models\n",
        "model.fit(X_train, y_train)"
      ],
      "execution_count": null,
      "outputs": [
        {
          "output_type": "execute_result",
          "data": {
            "text/plain": [
              "LinearRegression(copy_X=True, fit_intercept=True, n_jobs=None, normalize=False)"
            ]
          },
          "metadata": {
            "tags": []
          },
          "execution_count": 42
        }
      ]
    },
    {
      "cell_type": "code",
      "metadata": {
        "id": "XV3UkNmN8Blu"
      },
      "source": [
        " prediction = model.predict(X_test)"
      ],
      "execution_count": null,
      "outputs": []
    },
    {
      "cell_type": "code",
      "metadata": {
        "id": "43f8wgdw8emo",
        "outputId": "b8a978da-74fd-40f9-e7a4-7b8480040aa6",
        "colab": {
          "base_uri": "https://localhost:8080/",
          "height": 34
        }
      },
      "source": [
        "#the linear model score:\n",
        "model.score(X_test,y_test)"
      ],
      "execution_count": null,
      "outputs": [
        {
          "output_type": "execute_result",
          "data": {
            "text/plain": [
              "0.4346263919279839"
            ]
          },
          "metadata": {
            "tags": []
          },
          "execution_count": 44
        }
      ]
    },
    {
      "cell_type": "code",
      "metadata": {
        "id": "MqR-pcu28lWV",
        "outputId": "0328aa37-2d4d-4729-b9db-f63bbaa7d87f",
        "colab": {
          "base_uri": "https://localhost:8080/",
          "height": 537
        }
      },
      "source": [
        "#linear regressor visualization\n",
        "fg, ax = plt.subplots(2,1)\n",
        "ax[0].plot(X_test.index[:100], y_test[:100])\n",
        "ax[1].plot(X_test.index[:100], prediction[:100], color = 'red')\n",
        "fg.set_figheight(9)\n",
        "fg.set_figwidth(12)"
      ],
      "execution_count": null,
      "outputs": [
        {
          "output_type": "display_data",
          "data": {
            "image/png": "[encoded data removed]",
            "text/plain": [
              "<Figure size 864x648 with 2 Axes>"
            ]
          },
          "metadata": {
            "tags": [],
            "needs_background": "light"
          }
        }
      ]
    },
    {
      "cell_type": "code",
      "metadata": {
        "id": "bZwm8Hfz86NI"
      },
      "source": [
        ""
      ],
      "execution_count": null,
      "outputs": []
    },
    {
      "cell_type": "code",
      "metadata": {
        "id": "dRErs8O8tf89"
      },
      "source": [
        "import xgboost as xgb\n",
        "from xgboost import XGBRegressor\n",
        "from sklearn.metrics import mean_squared_error"
      ],
      "execution_count": null,
      "outputs": []
    },
    {
      "cell_type": "code",
      "metadata": {
        "id": "1QUb4gFytxJ9"
      },
      "source": [
        "#initiate the model\n",
        "xr = XGBRegressor(objective ='reg:linear', colsample_bytree = 0.3, learning_rate = 0.1,\n",
        "                max_depth = 5, alpha = 10, n_estimators = 10)"
      ],
      "execution_count": null,
      "outputs": []
    },
    {
      "cell_type": "code",
      "metadata": {
        "id": "hhE7shvMwqZN",
        "outputId": "2355f4d2-6b46-45f3-8ee5-4ebc8c875b7b",
        "colab": {
          "base_uri": "https://localhost:8080/",
          "height": 153
        }
      },
      "source": [
        "xr.fit(X_train,y_train)"
      ],
      "execution_count": null,
      "outputs": [
        {
          "output_type": "stream",
          "text": [
            "[12:40:51] WARNING: /workspace/src/objective/regression_obj.cu:152: reg:linear is now deprecated in favor of reg:squarederror.\n"
          ],
          "name": "stdout"
        },
        {
          "output_type": "execute_result",
          "data": {
            "text/plain": [
              "XGBRegressor(alpha=10, base_score=0.5, booster='gbtree', colsample_bylevel=1,\n",
              "             colsample_bynode=1, colsample_bytree=0.3, gamma=0,\n",
              "             importance_type='gain', learning_rate=0.1, max_delta_step=0,\n",
              "             max_depth=5, min_child_weight=1, missing=None, n_estimators=10,\n",
              "             n_jobs=1, nthread=None, objective='reg:linear', random_state=0,\n",
              "             reg_alpha=0, reg_lambda=1, scale_pos_weight=1, seed=None,\n",
              "             silent=None, subsample=1, verbosity=1)"
            ]
          },
          "metadata": {
            "tags": []
          },
          "execution_count": 48
        }
      ]
    },
    {
      "cell_type": "code",
      "metadata": {
        "id": "dRITMx97yN3W",
        "outputId": "2d692e22-74e5-491c-ac95-9cdb13e268dd",
        "colab": {
          "base_uri": "https://localhost:8080/",
          "height": 51
        }
      },
      "source": [
        "pred = xr.predict(X_test)\n",
        "\n",
        "#the model is doing poorly on the train dataset.\n",
        "print(\"Train score: \",xr.score(X_train,y_train))\n",
        "\n",
        "#the model is doing extremely bad on the test dataset.\n",
        "print(\"Test score: \",xr.score(X_test,y_test))\n",
        "\n",
        "\n"
      ],
      "execution_count": null,
      "outputs": [
        {
          "output_type": "stream",
          "text": [
            "Train score:  0.023793865322833452\n",
            "Test score:  -0.0354432870500776\n"
          ],
          "name": "stdout"
        }
      ]
    },
    {
      "cell_type": "code",
      "metadata": {
        "id": "7XNluik65dlz",
        "outputId": "54b18273-107a-43e6-d61f-b158e16b1be0",
        "colab": {
          "base_uri": "https://localhost:8080/",
          "height": 592
        }
      },
      "source": [
        "#lets visualize just 100 points and their predictions\n",
        "fg,ax = plt.subplots(2,1)\n",
        "ax[0].plot(y_test.index[:100],y_test[:100])\n",
        "ax[1].plot(y_test.index[:100],pred[:100], color = 'red')\n",
        "fg.set_figheight(10)\n",
        "fg.set_figwidth(12)\n",
        "\n",
        "## as we can see the predictions are pretty bad maybe even for this model\n",
        "## let us do some cross validation and improve this score.\n",
        "## the R2 score tells us how correlated our model is with the data we tried to describe it with."
      ],
      "execution_count": null,
      "outputs": [
        {
          "output_type": "display_data",
          "data": {
            "image/png": "[encoded data removed]",
            "text/plain": [
              "<Figure size 864x720 with 2 Axes>"
            ]
          },
          "metadata": {
            "tags": [],
            "needs_background": "light"
          }
        }
      ]
    },
    {
      "cell_type": "code",
      "metadata": {
        "id": "CKTFIIdJ5kub"
      },
      "source": [
        "data_dmatrix = xgb.DMatrix(data=X_train,label=y_train)"
      ],
      "execution_count": null,
      "outputs": []
    },
    {
      "cell_type": "code",
      "metadata": {
        "id": "Zbfj56nq57Cu"
      },
      "source": [
        "#cross validation\n",
        "\n",
        "params = {\"objective\":\"reg:squarederror\",'colsample_bytree': 0.3,'learning_rate': 0.1,\n",
        "                'max_depth': 5, 'alpha': 10}\n",
        "\n",
        "cv_results = xgb.cv(dtrain=data_dmatrix, params=params, nfold=10,\n",
        "                    num_boost_round=50,early_stopping_rounds=10,metrics=\"rmse\", as_pandas=True, seed=123)               "
      ],
      "execution_count": null,
      "outputs": []
    },
    {
      "cell_type": "code",
      "metadata": {
        "id": "tjPi_Fhn6Qu_",
        "outputId": "200251ce-eeb4-455b-ef80-be32ecb264e1",
        "colab": {
          "base_uri": "https://localhost:8080/",
          "height": 204
        }
      },
      "source": [
        "#the results\n",
        "cv_results.head()"
      ],
      "execution_count": null,
      "outputs": [
        {
          "output_type": "execute_result",
          "data": {
            "text/html": [
              "<div>\n",
              "<style scoped>\n",
              "    .dataframe tbody tr th:only-of-type {\n",
              "        vertical-align: middle;\n",
              "    }\n",
              "\n",
              "    .dataframe tbody tr th {\n",
              "        vertical-align: top;\n",
              "    }\n",
              "\n",
              "    .dataframe thead th {\n",
              "        text-align: right;\n",
              "    }\n",
              "</style>\n",
              "<table border=\"1\" class=\"dataframe\">\n",
              "  <thead>\n",
              "    <tr style=\"text-align: right;\">\n",
              "      <th></th>\n",
              "      <th>train-rmse-mean</th>\n",
              "      <th>train-rmse-std</th>\n",
              "      <th>test-rmse-mean</th>\n",
              "      <th>test-rmse-std</th>\n",
              "    </tr>\n",
              "  </thead>\n",
              "  <tbody>\n",
              "    <tr>\n",
              "      <th>0</th>\n",
              "      <td>1.036612</td>\n",
              "      <td>0.007811</td>\n",
              "      <td>1.035422</td>\n",
              "      <td>0.066853</td>\n",
              "    </tr>\n",
              "    <tr>\n",
              "      <th>1</th>\n",
              "      <td>1.017430</td>\n",
              "      <td>0.007704</td>\n",
              "      <td>1.016885</td>\n",
              "      <td>0.067882</td>\n",
              "    </tr>\n",
              "    <tr>\n",
              "      <th>2</th>\n",
              "      <td>1.001273</td>\n",
              "      <td>0.007599</td>\n",
              "      <td>1.001493</td>\n",
              "      <td>0.068690</td>\n",
              "    </tr>\n",
              "    <tr>\n",
              "      <th>3</th>\n",
              "      <td>0.988096</td>\n",
              "      <td>0.007673</td>\n",
              "      <td>0.988870</td>\n",
              "      <td>0.069411</td>\n",
              "    </tr>\n",
              "    <tr>\n",
              "      <th>4</th>\n",
              "      <td>0.977121</td>\n",
              "      <td>0.007593</td>\n",
              "      <td>0.978677</td>\n",
              "      <td>0.070026</td>\n",
              "    </tr>\n",
              "  </tbody>\n",
              "</table>\n",
              "</div>"
            ],
            "text/plain": [
              "   train-rmse-mean  train-rmse-std  test-rmse-mean  test-rmse-std\n",
              "0         1.036612        0.007811        1.035422       0.066853\n",
              "1         1.017430        0.007704        1.016885       0.067882\n",
              "2         1.001273        0.007599        1.001493       0.068690\n",
              "3         0.988096        0.007673        0.988870       0.069411\n",
              "4         0.977121        0.007593        0.978677       0.070026"
            ]
          },
          "metadata": {
            "tags": []
          },
          "execution_count": 53
        }
      ]
    },
    {
      "cell_type": "code",
      "metadata": {
        "id": "nPgTliGt6g3a"
      },
      "source": [
        ""
      ],
      "execution_count": null,
      "outputs": []
    },
    {
      "cell_type": "code",
      "metadata": {
        "id": "Wbzzrood7DcR",
        "outputId": "ecc7ae95-0d60-4d57-ec8f-00f1c9fea925",
        "colab": {
          "base_uri": "https://localhost:8080/",
          "height": 169
        }
      },
      "source": [
        "## Draw the tree\n",
        "\n",
        "import matplotlib.pyplot as plt\n",
        "plt.figure(figsize = (10,10))\n",
        "xgb.plot_tree(xr,num_trees=0)\n",
        "plt.show()"
      ],
      "execution_count": null,
      "outputs": [
        {
          "output_type": "display_data",
          "data": {
            "image/png": "[encoded data removed]",
            "text/plain": [
              "<Figure size 432x288 with 1 Axes>"
            ]
          },
          "metadata": {
            "tags": [],
            "needs_background": "light"
          }
        }
      ]
    },
    {
      "cell_type": "code",
      "metadata": {
        "id": "cMGwWl8S7LP1"
      },
      "source": [
        ""
      ],
      "execution_count": null,
      "outputs": []
    },
    {
      "cell_type": "code",
      "metadata": {
        "id": "Ym2vdHOi7VfI",
        "outputId": "f03985a8-ca7b-4761-ac3c-5f452a81cc21",
        "colab": {
          "base_uri": "https://localhost:8080/",
          "height": 312
        }
      },
      "source": [
        "#feature importance\n",
        "plt.figure(figsize= (8,12))\n",
        "xgb.plot_importance(xr)\n",
        "plt.show()"
      ],
      "execution_count": null,
      "outputs": [
        {
          "output_type": "display_data",
          "data": {
            "text/plain": [
              "<Figure size 576x864 with 0 Axes>"
            ]
          },
          "metadata": {
            "tags": []
          }
        },
        {
          "output_type": "display_data",
          "data": {
            "image/png": "[encoded data removed]",
            "text/plain": [
              "<Figure size 432x288 with 1 Axes>"
            ]
          },
          "metadata": {
            "tags": [],
            "needs_background": "light"
          }
        }
      ]
    },
    {
      "cell_type": "code",
      "metadata": {
        "id": "vL_3c0a37Zuy"
      },
      "source": [
        ""
      ],
      "execution_count": null,
      "outputs": []
    },
    {
      "cell_type": "code",
      "metadata": {
        "id": "d1f1qrda7xTV"
      },
      "source": [
        ""
      ],
      "execution_count": null,
      "outputs": []
    },
    {
      "cell_type": "markdown",
      "metadata": {
        "id": "c9_OUx5k7yOh"
      },
      "source": [
        "# Model Spot Checking"
      ]
    },
    {
      "cell_type": "code",
      "metadata": {
        "id": "GzXDyVuo8onx"
      },
      "source": [
        "from sklearn.svm import SVR\n",
        "from sklearn.ensemble import RandomForestRegressor\n",
        "from sklearn.linear_model import Lasso\n",
        "from lightgbm import LGBMRegressor\n",
        "from xgboost import XGBRegressor\n",
        "from sklearn.model_selection import KFold, cross_val_score\n",
        "from sklearn.kernel_ridge import KernelRidge"
      ],
      "execution_count": null,
      "outputs": []
    },
    {
      "cell_type": "code",
      "metadata": {
        "id": "P9w70xSA700G",
        "outputId": "e9e87146-c9a7-4b22-f733-fea4a1856235",
        "colab": {
          "base_uri": "https://localhost:8080/",
          "height": 413
        }
      },
      "source": [
        "# Compare Algorithms\n",
        "from matplotlib import pyplot\n",
        "# prepare models and add them to a list\n",
        "models = []\n",
        "models.append((\"SVR\", SVR()))\n",
        "models.append((\"RF\", RandomForestRegressor()))\n",
        "models.append((\"Lasso\", Lasso()))\n",
        "models.append((\"LGB\",LGBMRegressor()))\n",
        "models.append((\"XGB\", XGBRegressor(objective='reg:squarederror')))\n",
        "models.append((\"Kernel\",KernelRidge()))\n",
        "models.append((\"Linear\", LinearRegression()))\n",
        "\n",
        "# evaluate each model in turn\n",
        "results = []\n",
        "names = []\n",
        "scoring = 'neg_root_mean_squared_error'\n",
        "for name, model in models:\n",
        "    kfold = KFold(n_splits=10, random_state=42)\n",
        "    cv_results = cross_val_score(model, X_train, y_train, cv=kfold, scoring=scoring)\n",
        "    results.append(cv_results)\n",
        "    names.append(name)\n",
        "    msg = (name, -cv_results.mean(), cv_results.std())\n",
        "    print(msg)\n",
        "\n",
        "# boxplot algorithm comparison\n",
        "fig = pyplot.figure()\n",
        "fig.suptitle('Algorithm Comparison')\n",
        "ax = fig.add_subplot(111)\n",
        "pyplot.boxplot(results)\n",
        "ax.set_xticklabels(names)\n",
        "pyplot.show()"
      ],
      "execution_count": null,
      "outputs": [
        {
          "output_type": "stream",
          "text": [
            "('SVR', 0.6960251236077414, 0.6368429337825218)\n",
            "('RF', 0.7072530341710946, 0.6403703284997976)\n",
            "('Lasso', 0.6472600889015026, 0.5871905360213423)\n",
            "('LGB', 0.6794221467841262, 0.6130104904305446)\n",
            "('XGB', 0.7236787017693572, 0.6564701571143284)\n",
            "('Kernel', 0.682686221555852, 0.6524293325368195)\n",
            "('Linear', 0.4598551501388755, 0.40115761122352667)\n"
          ],
          "name": "stdout"
        },
        {
          "output_type": "display_data",
          "data": {
            "image/png": "[encoded data removed]",
            "text/plain": [
              "<Figure size 432x288 with 1 Axes>"
            ]
          },
          "metadata": {
            "tags": [],
            "needs_background": "light"
          }
        }
      ]
    },
    {
      "cell_type": "code",
      "metadata": {
        "id": "ZpNEDSju_IiY",
        "outputId": "9818277a-01ca-4316-e50d-fef5be0b1cab",
        "colab": {
          "base_uri": "https://localhost:8080/",
          "height": 833
        }
      },
      "source": [
        "from sklearn.metrics import SCORERS\n",
        "list(\n",
        "SCORERS.keys())"
      ],
      "execution_count": null,
      "outputs": [
        {
          "output_type": "execute_result",
          "data": {
            "text/plain": [
              "['explained_variance',\n",
              " 'r2',\n",
              " 'max_error',\n",
              " 'neg_median_absolute_error',\n",
              " 'neg_mean_absolute_error',\n",
              " 'neg_mean_squared_error',\n",
              " 'neg_mean_squared_log_error',\n",
              " 'neg_root_mean_squared_error',\n",
              " 'neg_mean_poisson_deviance',\n",
              " 'neg_mean_gamma_deviance',\n",
              " 'accuracy',\n",
              " 'roc_auc',\n",
              " 'roc_auc_ovr',\n",
              " 'roc_auc_ovo',\n",
              " 'roc_auc_ovr_weighted',\n",
              " 'roc_auc_ovo_weighted',\n",
              " 'balanced_accuracy',\n",
              " 'average_precision',\n",
              " 'neg_log_loss',\n",
              " 'neg_brier_score',\n",
              " 'adjusted_rand_score',\n",
              " 'homogeneity_score',\n",
              " 'completeness_score',\n",
              " 'v_measure_score',\n",
              " 'mutual_info_score',\n",
              " 'adjusted_mutual_info_score',\n",
              " 'normalized_mutual_info_score',\n",
              " 'fowlkes_mallows_score',\n",
              " 'precision',\n",
              " 'precision_macro',\n",
              " 'precision_micro',\n",
              " 'precision_samples',\n",
              " 'precision_weighted',\n",
              " 'recall',\n",
              " 'recall_macro',\n",
              " 'recall_micro',\n",
              " 'recall_samples',\n",
              " 'recall_weighted',\n",
              " 'f1',\n",
              " 'f1_macro',\n",
              " 'f1_micro',\n",
              " 'f1_samples',\n",
              " 'f1_weighted',\n",
              " 'jaccard',\n",
              " 'jaccard_macro',\n",
              " 'jaccard_micro',\n",
              " 'jaccard_samples',\n",
              " 'jaccard_weighted']"
            ]
          },
          "metadata": {
            "tags": []
          },
          "execution_count": 58
        }
      ]
    },
    {
      "cell_type": "code",
      "metadata": {
        "id": "6-nFhtnDARKl"
      },
      "source": [
        ""
      ],
      "execution_count": null,
      "outputs": []
    }
  ]
}